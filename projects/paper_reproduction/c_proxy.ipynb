{
 "cells": [
  {
   "cell_type": "code",
   "execution_count": 5,
   "id": "ddf80c33",
   "metadata": {},
   "outputs": [
    {
     "name": "stdout",
     "output_type": "stream",
     "text": [
      "Sun Jul 20 15:32:11 2025       \n",
      "+---------------------------------------------------------------------------------------+\n",
      "| NVIDIA-SMI 535.183.01             Driver Version: 535.183.01   CUDA Version: 12.2     |\n",
      "|-----------------------------------------+----------------------+----------------------+\n",
      "| GPU  Name                 Persistence-M | Bus-Id        Disp.A | Volatile Uncorr. ECC |\n",
      "| Fan  Temp   Perf          Pwr:Usage/Cap |         Memory-Usage | GPU-Util  Compute M. |\n",
      "|                                         |                      |               MIG M. |\n",
      "|=========================================+======================+======================|\n",
      "|   0  Tesla P100-PCIE-16GB           Off | 00000000:04:00.0 Off |                    0 |\n",
      "| N/A   39C    P0              34W / 250W |  12422MiB / 16384MiB |      0%      Default |\n",
      "|                                         |                      |                  N/A |\n",
      "+-----------------------------------------+----------------------+----------------------+\n",
      "|   1  Tesla P100-PCIE-16GB           Off | 00000000:06:00.0 Off |                    0 |\n",
      "| N/A   44C    P0              76W / 250W |   7114MiB / 16384MiB |     32%      Default |\n",
      "|                                         |                      |                  N/A |\n",
      "+-----------------------------------------+----------------------+----------------------+\n",
      "|   2  Tesla P100-PCIE-16GB           Off | 00000000:07:00.0 Off |                    0 |\n",
      "| N/A   44C    P0              34W / 250W |   8370MiB / 16384MiB |      0%      Default |\n",
      "|                                         |                      |                  N/A |\n",
      "+-----------------------------------------+----------------------+----------------------+\n",
      "|   3  Tesla P100-PCIE-16GB           Off | 00000000:08:00.0 Off |                    0 |\n",
      "| N/A   53C    P0              86W / 250W |   9384MiB / 16384MiB |     47%      Default |\n",
      "|                                         |                      |                  N/A |\n",
      "+-----------------------------------------+----------------------+----------------------+\n",
      "|   4  Tesla P100-PCIE-16GB           Off | 00000000:0C:00.0 Off |                    0 |\n",
      "| N/A   39C    P0              32W / 250W |  14456MiB / 16384MiB |      0%      Default |\n",
      "|                                         |                      |                  N/A |\n",
      "+-----------------------------------------+----------------------+----------------------+\n",
      "|   5  Tesla P100-PCIE-16GB           Off | 00000000:0D:00.0 Off |                    0 |\n",
      "| N/A   44C    P0              46W / 250W |   9074MiB / 16384MiB |     24%      Default |\n",
      "|                                         |                      |                  N/A |\n",
      "+-----------------------------------------+----------------------+----------------------+\n",
      "|   6  Tesla P100-PCIE-16GB           Off | 00000000:0E:00.0 Off |                    0 |\n",
      "| N/A   38C    P0              31W / 250W |   5006MiB / 16384MiB |      0%      Default |\n",
      "|                                         |                      |                  N/A |\n",
      "+-----------------------------------------+----------------------+----------------------+\n",
      "|   7  Tesla P100-PCIE-16GB           Off | 00000000:0F:00.0 Off |                    0 |\n",
      "| N/A   39C    P0              32W / 250W |  14760MiB / 16384MiB |     17%      Default |\n",
      "|                                         |                      |                  N/A |\n",
      "+-----------------------------------------+----------------------+----------------------+\n",
      "                                                                                         \n",
      "+---------------------------------------------------------------------------------------+\n",
      "| Processes:                                                                            |\n",
      "|  GPU   GI   CI        PID   Type   Process name                            GPU Memory |\n",
      "|        ID   ID                                                             Usage      |\n",
      "|=======================================================================================|\n",
      "+---------------------------------------------------------------------------------------+\n"
     ]
    }
   ],
   "source": [
    "!nvidia-smi"
   ]
  },
  {
   "cell_type": "code",
   "execution_count": 3,
   "id": "1b3c798e",
   "metadata": {},
   "outputs": [
    {
     "name": "stdout",
     "output_type": "stream",
     "text": [
      "INFO: Using device - cuda:4\n"
     ]
    }
   ],
   "source": [
    "import torch\n",
    "\n",
    "# Set device (GPU if available)\n",
    "DEVICE_NUM = 4\n",
    "ADDITIONAL_GPU = 1\n",
    "\n",
    "if torch.cuda.is_available():\n",
    "    torch.cuda.set_device(DEVICE_NUM)\n",
    "    device = torch.device(\"cuda\")\n",
    "else:\n",
    "    device = torch.device(\"cpu\")\n",
    "    DEVICE_NUM = -1\n",
    "\n",
    "print(f\"INFO: Using device - {device}:{DEVICE_NUM}\")"
   ]
  },
  {
   "cell_type": "code",
   "execution_count": null,
   "id": "6ad9917a",
   "metadata": {},
   "outputs": [
    {
     "name": "stdout",
     "output_type": "stream",
     "text": [
      "Using device: cuda\n"
     ]
    },
    {
     "name": "stderr",
     "output_type": "stream",
     "text": [
      "100.0%\n"
     ]
    },
    {
     "name": "stdout",
     "output_type": "stream",
     "text": [
      "Epoch 1/20 완료. 소요 시간: 48.26초\n",
      "Epoch 2/20 완료. 소요 시간: 94.91초\n",
      "Epoch 3/20 완료. 소요 시간: 141.58초\n",
      "Epoch 4/20 완료. 소요 시간: 188.00초\n",
      "Epoch 5/20 완료. 소요 시간: 234.12초\n",
      "Epoch 6/20 완료. 소요 시간: 280.58초\n",
      "Epoch 7/20 완료. 소요 시간: 326.50초\n",
      "Epoch 8/20 완료. 소요 시간: 372.36초\n",
      "Epoch 9/20 완료. 소요 시간: 418.36초\n",
      "Epoch 10/20 완료. 소요 시간: 465.33초\n",
      "Epoch 11/20 완료. 소요 시간: 511.80초\n",
      "Epoch 12/20 완료. 소요 시간: 558.27초\n",
      "Epoch 13/20 완료. 소요 시간: 603.69초\n",
      "Epoch 14/20 완료. 소요 시간: 650.38초\n",
      "Epoch 15/20 완료. 소요 시간: 695.98초\n",
      "Epoch 16/20 완료. 소요 시간: 742.37초\n",
      "Epoch 17/20 완료. 소요 시간: 789.38초\n",
      "Epoch 18/20 완료. 소요 시간: 835.40초\n",
      "Epoch 19/20 완료. 소요 시간: 881.27초\n",
      "Epoch 20/20 완료. 소요 시간: 926.63초\n",
      "\n",
      "C-proxy 계산 완료!\n",
      "계산된 C-proxy 점수 (상위 5개): [0.89213359 0.97150561 0.85158746 0.96729454 0.92375098]\n",
      "C-proxy 점수 배열 크기: (50000,)\n",
      "가장 많이 암기된 것으로 추정되는 데이터 인덱스 (C-proxy 점수가 낮은 순): [10755 22515 17022 20627 30707]\n",
      "해당 데이터들의 C-proxy 점수: [0.21150554 0.22249599 0.24543833 0.29612337 0.30267277]\n"
     ]
    }
   ],
   "source": [
    "import torch\n",
    "import torch.nn as nn\n",
    "import torch.optim as optim\n",
    "from torchvision import datasets, models, transforms\n",
    "from torch.utils.data import DataLoader\n",
    "import numpy as np\n",
    "import time\n",
    "\n",
    "# 1. 기본 설정 및 데이터 로드\n",
    "device = torch.device(\"cuda\" if torch.cuda.is_available() else \"cpu\")\n",
    "print(f\"Using device: {device}\")\n",
    "\n",
    "transform = transforms.Compose([\n",
    "    transforms.ToTensor(),\n",
    "    transforms.Normalize((0.4914, 0.4822, 0.4465), (0.247, 0.243, 0.261))\n",
    "])\n",
    "\n",
    "train_dataset = datasets.CIFAR10(root='./data', train=True, download=True, transform=transform)\n",
    "# C-proxy 계산을 위해 셔플하지 않은 로더 사용\n",
    "train_loader = DataLoader(train_dataset, batch_size=128, shuffle=False)\n",
    "\n",
    "# 2. 모델 정의\n",
    "model = models.resnet18(weights=None)\n",
    "model.fc = nn.Linear(model.fc.in_features, 10)\n",
    "model = model.to(device)\n",
    "\n",
    "# 3. C-proxy 계산을 위한 훈련 및 평가\n",
    "epochs = 20 # 예시 에포크\n",
    "criterion = nn.CrossEntropyLoss()\n",
    "optimizer = optim.SGD(model.parameters(), lr=0.01, momentum=0.9, weight_decay=5e-4)\n",
    "scheduler = torch.optim.lr_scheduler.CosineAnnealingLR(optimizer, T_max=epochs)\n",
    "\n",
    "# 각 훈련 데이터 포인트의 confidence를 저장할 배열\n",
    "# 논문에서는 훈련 중 모든 epoch에서 confidence를 추적하고 평균냄\n",
    "confidence_history = np.zeros((len(train_dataset), epochs))\n",
    "\n",
    "start_time = time.time()\n",
    "\n",
    "for epoch in range(epochs):\n",
    "    model.train()\n",
    "    for batch_idx, (inputs, targets) in enumerate(train_loader):\n",
    "        inputs, targets = inputs.to(device), targets.to(device)\n",
    "        optimizer.zero_grad()\n",
    "        outputs = model(inputs)\n",
    "        loss = criterion(outputs, targets)\n",
    "        loss.backward()\n",
    "        optimizer.step()\n",
    "\n",
    "    # --- 각 에포크가 끝난 후 C-proxy 계산을 위한 confidence 기록 ---\n",
    "    model.eval()\n",
    "    with torch.no_grad():\n",
    "        for batch_idx, (inputs, targets) in enumerate(train_loader):\n",
    "            inputs, targets = inputs.to(device), targets.to(device)\n",
    "            outputs = model(inputs)\n",
    "            # Softmax를 적용하여 확률(confidence) 계산\n",
    "            softmax_probs = torch.softmax(outputs, dim=1)\n",
    "            # 각 데이터의 정답 레이블에 대한 confidence 추출\n",
    "            correct_class_confidence = softmax_probs[torch.arange(len(targets)), targets]\n",
    "\n",
    "            # 기록\n",
    "            start_index = batch_idx * train_loader.batch_size\n",
    "            end_index = start_index + len(targets)\n",
    "            confidence_history[start_index:end_index, epoch] = correct_class_confidence.cpu().numpy()\n",
    "\n",
    "    scheduler.step()\n",
    "    print(f\"Epoch {epoch+1}/{epochs} 완료. 소요 시간: {time.time() - start_time:.2f}초\")\n",
    "\n",
    "\n",
    "# 4. 최종 C-proxy 점수 계산\n",
    "# 모든 에포크에 대한 confidence의 평균을 계산\n",
    "c_proxy_scores = np.mean(confidence_history, axis=1)\n",
    "\n",
    "print(\"\\nC-proxy 계산 완료\")\n",
    "print(f\"계산된 C-proxy 점수 (상위 5개): {c_proxy_scores[:5]}\")\n",
    "print(f\"C-proxy 점수 배열 크기: {c_proxy_scores.shape}\")\n",
    "\n",
    "# 점수가 낮을수록 더 많이 암기되었을 가능성이 높음\n",
    "# 상위 5개 암기된 데이터의 인덱스\n",
    "most_memorized_indices = np.argsort(c_proxy_scores)[:5]\n",
    "print(f\"가장 많이 암기된 것으로 추정되는 데이터 인덱스 (C-proxy 점수가 낮은 순): {most_memorized_indices}\")\n",
    "print(f\"해당 데이터들의 C-proxy 점수: {c_proxy_scores[most_memorized_indices]}\")"
   ]
  }
 ],
 "metadata": {
  "kernelspec": {
   "display_name": "myenv",
   "language": "python",
   "name": "python3"
  },
  "language_info": {
   "codemirror_mode": {
    "name": "ipython",
    "version": 3
   },
   "file_extension": ".py",
   "mimetype": "text/x-python",
   "name": "python",
   "nbconvert_exporter": "python",
   "pygments_lexer": "ipython3",
   "version": "3.10.18"
  }
 },
 "nbformat": 4,
 "nbformat_minor": 5
}
